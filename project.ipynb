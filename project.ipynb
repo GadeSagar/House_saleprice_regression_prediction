{
 "cells": [
  {
   "cell_type": "code",
   "execution_count": 1,
   "id": "f7c1eecd",
   "metadata": {},
   "outputs": [],
   "source": [
    "import pandas as pd\n",
    "train_data = pd.read_csv(\"C:/Users/Lenovo/Desktop/Machine Learnig/9.Day_ProjectExplenation/training_set.csv\")\n",
    "test_data = pd.read_csv(\"C:/Users/Lenovo/Desktop/Machine Learnig/9.Day_ProjectExplenation/testing_set.csv\")"
   ]
  },
  {
   "cell_type": "code",
   "execution_count": 2,
   "id": "bd2e88cd",
   "metadata": {},
   "outputs": [
    {
     "data": {
      "text/html": [
       "<div>\n",
       "<style scoped>\n",
       "    .dataframe tbody tr th:only-of-type {\n",
       "        vertical-align: middle;\n",
       "    }\n",
       "\n",
       "    .dataframe tbody tr th {\n",
       "        vertical-align: top;\n",
       "    }\n",
       "\n",
       "    .dataframe thead th {\n",
       "        text-align: right;\n",
       "    }\n",
       "</style>\n",
       "<table border=\"1\" class=\"dataframe\">\n",
       "  <thead>\n",
       "    <tr style=\"text-align: right;\">\n",
       "      <th></th>\n",
       "      <th>Id</th>\n",
       "      <th>MSSubClass</th>\n",
       "      <th>MSZoning</th>\n",
       "      <th>LotFrontage</th>\n",
       "      <th>LotArea</th>\n",
       "      <th>Street</th>\n",
       "      <th>Alley</th>\n",
       "      <th>LotShape</th>\n",
       "      <th>LandContour</th>\n",
       "      <th>Utilities</th>\n",
       "      <th>...</th>\n",
       "      <th>PoolArea</th>\n",
       "      <th>PoolQC</th>\n",
       "      <th>Fence</th>\n",
       "      <th>MiscFeature</th>\n",
       "      <th>MiscVal</th>\n",
       "      <th>MoSold</th>\n",
       "      <th>YrSold</th>\n",
       "      <th>SaleType</th>\n",
       "      <th>SaleCondition</th>\n",
       "      <th>SalePrice</th>\n",
       "    </tr>\n",
       "  </thead>\n",
       "  <tbody>\n",
       "    <tr>\n",
       "      <th>0</th>\n",
       "      <td>1</td>\n",
       "      <td>60</td>\n",
       "      <td>RL</td>\n",
       "      <td>65.0</td>\n",
       "      <td>8450</td>\n",
       "      <td>Pave</td>\n",
       "      <td>NaN</td>\n",
       "      <td>Reg</td>\n",
       "      <td>Lvl</td>\n",
       "      <td>AllPub</td>\n",
       "      <td>...</td>\n",
       "      <td>0</td>\n",
       "      <td>NaN</td>\n",
       "      <td>NaN</td>\n",
       "      <td>NaN</td>\n",
       "      <td>0</td>\n",
       "      <td>2</td>\n",
       "      <td>2008</td>\n",
       "      <td>WD</td>\n",
       "      <td>Normal</td>\n",
       "      <td>208500</td>\n",
       "    </tr>\n",
       "    <tr>\n",
       "      <th>1</th>\n",
       "      <td>2</td>\n",
       "      <td>20</td>\n",
       "      <td>RL</td>\n",
       "      <td>80.0</td>\n",
       "      <td>9600</td>\n",
       "      <td>Pave</td>\n",
       "      <td>NaN</td>\n",
       "      <td>Reg</td>\n",
       "      <td>Lvl</td>\n",
       "      <td>AllPub</td>\n",
       "      <td>...</td>\n",
       "      <td>0</td>\n",
       "      <td>NaN</td>\n",
       "      <td>NaN</td>\n",
       "      <td>NaN</td>\n",
       "      <td>0</td>\n",
       "      <td>5</td>\n",
       "      <td>2007</td>\n",
       "      <td>WD</td>\n",
       "      <td>Normal</td>\n",
       "      <td>181500</td>\n",
       "    </tr>\n",
       "    <tr>\n",
       "      <th>2</th>\n",
       "      <td>3</td>\n",
       "      <td>60</td>\n",
       "      <td>RL</td>\n",
       "      <td>68.0</td>\n",
       "      <td>11250</td>\n",
       "      <td>Pave</td>\n",
       "      <td>NaN</td>\n",
       "      <td>IR1</td>\n",
       "      <td>Lvl</td>\n",
       "      <td>AllPub</td>\n",
       "      <td>...</td>\n",
       "      <td>0</td>\n",
       "      <td>NaN</td>\n",
       "      <td>NaN</td>\n",
       "      <td>NaN</td>\n",
       "      <td>0</td>\n",
       "      <td>9</td>\n",
       "      <td>2008</td>\n",
       "      <td>WD</td>\n",
       "      <td>Normal</td>\n",
       "      <td>223500</td>\n",
       "    </tr>\n",
       "    <tr>\n",
       "      <th>3</th>\n",
       "      <td>4</td>\n",
       "      <td>70</td>\n",
       "      <td>RL</td>\n",
       "      <td>60.0</td>\n",
       "      <td>9550</td>\n",
       "      <td>Pave</td>\n",
       "      <td>NaN</td>\n",
       "      <td>IR1</td>\n",
       "      <td>Lvl</td>\n",
       "      <td>AllPub</td>\n",
       "      <td>...</td>\n",
       "      <td>0</td>\n",
       "      <td>NaN</td>\n",
       "      <td>NaN</td>\n",
       "      <td>NaN</td>\n",
       "      <td>0</td>\n",
       "      <td>2</td>\n",
       "      <td>2006</td>\n",
       "      <td>WD</td>\n",
       "      <td>Abnorml</td>\n",
       "      <td>140000</td>\n",
       "    </tr>\n",
       "    <tr>\n",
       "      <th>4</th>\n",
       "      <td>5</td>\n",
       "      <td>60</td>\n",
       "      <td>RL</td>\n",
       "      <td>84.0</td>\n",
       "      <td>14260</td>\n",
       "      <td>Pave</td>\n",
       "      <td>NaN</td>\n",
       "      <td>IR1</td>\n",
       "      <td>Lvl</td>\n",
       "      <td>AllPub</td>\n",
       "      <td>...</td>\n",
       "      <td>0</td>\n",
       "      <td>NaN</td>\n",
       "      <td>NaN</td>\n",
       "      <td>NaN</td>\n",
       "      <td>0</td>\n",
       "      <td>12</td>\n",
       "      <td>2008</td>\n",
       "      <td>WD</td>\n",
       "      <td>Normal</td>\n",
       "      <td>250000</td>\n",
       "    </tr>\n",
       "  </tbody>\n",
       "</table>\n",
       "<p>5 rows × 81 columns</p>\n",
       "</div>"
      ],
      "text/plain": [
       "   Id  MSSubClass MSZoning  LotFrontage  LotArea Street Alley LotShape  \\\n",
       "0   1          60       RL         65.0     8450   Pave   NaN      Reg   \n",
       "1   2          20       RL         80.0     9600   Pave   NaN      Reg   \n",
       "2   3          60       RL         68.0    11250   Pave   NaN      IR1   \n",
       "3   4          70       RL         60.0     9550   Pave   NaN      IR1   \n",
       "4   5          60       RL         84.0    14260   Pave   NaN      IR1   \n",
       "\n",
       "  LandContour Utilities  ... PoolArea PoolQC Fence MiscFeature MiscVal MoSold  \\\n",
       "0         Lvl    AllPub  ...        0    NaN   NaN         NaN       0      2   \n",
       "1         Lvl    AllPub  ...        0    NaN   NaN         NaN       0      5   \n",
       "2         Lvl    AllPub  ...        0    NaN   NaN         NaN       0      9   \n",
       "3         Lvl    AllPub  ...        0    NaN   NaN         NaN       0      2   \n",
       "4         Lvl    AllPub  ...        0    NaN   NaN         NaN       0     12   \n",
       "\n",
       "  YrSold  SaleType  SaleCondition  SalePrice  \n",
       "0   2008        WD         Normal     208500  \n",
       "1   2007        WD         Normal     181500  \n",
       "2   2008        WD         Normal     223500  \n",
       "3   2006        WD        Abnorml     140000  \n",
       "4   2008        WD         Normal     250000  \n",
       "\n",
       "[5 rows x 81 columns]"
      ]
     },
     "execution_count": 2,
     "metadata": {},
     "output_type": "execute_result"
    }
   ],
   "source": [
    "train_data.head()"
   ]
  },
  {
   "cell_type": "code",
   "execution_count": 3,
   "id": "fa346932",
   "metadata": {},
   "outputs": [
    {
     "data": {
      "text/html": [
       "<div>\n",
       "<style scoped>\n",
       "    .dataframe tbody tr th:only-of-type {\n",
       "        vertical-align: middle;\n",
       "    }\n",
       "\n",
       "    .dataframe tbody tr th {\n",
       "        vertical-align: top;\n",
       "    }\n",
       "\n",
       "    .dataframe thead th {\n",
       "        text-align: right;\n",
       "    }\n",
       "</style>\n",
       "<table border=\"1\" class=\"dataframe\">\n",
       "  <thead>\n",
       "    <tr style=\"text-align: right;\">\n",
       "      <th></th>\n",
       "      <th>Id</th>\n",
       "      <th>MSSubClass</th>\n",
       "      <th>MSZoning</th>\n",
       "      <th>LotFrontage</th>\n",
       "      <th>LotArea</th>\n",
       "      <th>Street</th>\n",
       "      <th>Alley</th>\n",
       "      <th>LotShape</th>\n",
       "      <th>LandContour</th>\n",
       "      <th>Utilities</th>\n",
       "      <th>...</th>\n",
       "      <th>ScreenPorch</th>\n",
       "      <th>PoolArea</th>\n",
       "      <th>PoolQC</th>\n",
       "      <th>Fence</th>\n",
       "      <th>MiscFeature</th>\n",
       "      <th>MiscVal</th>\n",
       "      <th>MoSold</th>\n",
       "      <th>YrSold</th>\n",
       "      <th>SaleType</th>\n",
       "      <th>SaleCondition</th>\n",
       "    </tr>\n",
       "  </thead>\n",
       "  <tbody>\n",
       "    <tr>\n",
       "      <th>0</th>\n",
       "      <td>1461</td>\n",
       "      <td>20</td>\n",
       "      <td>RH</td>\n",
       "      <td>80.0</td>\n",
       "      <td>11622</td>\n",
       "      <td>Pave</td>\n",
       "      <td>NaN</td>\n",
       "      <td>Reg</td>\n",
       "      <td>Lvl</td>\n",
       "      <td>AllPub</td>\n",
       "      <td>...</td>\n",
       "      <td>120</td>\n",
       "      <td>0</td>\n",
       "      <td>NaN</td>\n",
       "      <td>MnPrv</td>\n",
       "      <td>NaN</td>\n",
       "      <td>0</td>\n",
       "      <td>6</td>\n",
       "      <td>2010</td>\n",
       "      <td>WD</td>\n",
       "      <td>Normal</td>\n",
       "    </tr>\n",
       "    <tr>\n",
       "      <th>1</th>\n",
       "      <td>1462</td>\n",
       "      <td>20</td>\n",
       "      <td>RL</td>\n",
       "      <td>81.0</td>\n",
       "      <td>14267</td>\n",
       "      <td>Pave</td>\n",
       "      <td>NaN</td>\n",
       "      <td>IR1</td>\n",
       "      <td>Lvl</td>\n",
       "      <td>AllPub</td>\n",
       "      <td>...</td>\n",
       "      <td>0</td>\n",
       "      <td>0</td>\n",
       "      <td>NaN</td>\n",
       "      <td>NaN</td>\n",
       "      <td>Gar2</td>\n",
       "      <td>12500</td>\n",
       "      <td>6</td>\n",
       "      <td>2010</td>\n",
       "      <td>WD</td>\n",
       "      <td>Normal</td>\n",
       "    </tr>\n",
       "    <tr>\n",
       "      <th>2</th>\n",
       "      <td>1463</td>\n",
       "      <td>60</td>\n",
       "      <td>RL</td>\n",
       "      <td>74.0</td>\n",
       "      <td>13830</td>\n",
       "      <td>Pave</td>\n",
       "      <td>NaN</td>\n",
       "      <td>IR1</td>\n",
       "      <td>Lvl</td>\n",
       "      <td>AllPub</td>\n",
       "      <td>...</td>\n",
       "      <td>0</td>\n",
       "      <td>0</td>\n",
       "      <td>NaN</td>\n",
       "      <td>MnPrv</td>\n",
       "      <td>NaN</td>\n",
       "      <td>0</td>\n",
       "      <td>3</td>\n",
       "      <td>2010</td>\n",
       "      <td>WD</td>\n",
       "      <td>Normal</td>\n",
       "    </tr>\n",
       "    <tr>\n",
       "      <th>3</th>\n",
       "      <td>1464</td>\n",
       "      <td>60</td>\n",
       "      <td>RL</td>\n",
       "      <td>78.0</td>\n",
       "      <td>9978</td>\n",
       "      <td>Pave</td>\n",
       "      <td>NaN</td>\n",
       "      <td>IR1</td>\n",
       "      <td>Lvl</td>\n",
       "      <td>AllPub</td>\n",
       "      <td>...</td>\n",
       "      <td>0</td>\n",
       "      <td>0</td>\n",
       "      <td>NaN</td>\n",
       "      <td>NaN</td>\n",
       "      <td>NaN</td>\n",
       "      <td>0</td>\n",
       "      <td>6</td>\n",
       "      <td>2010</td>\n",
       "      <td>WD</td>\n",
       "      <td>Normal</td>\n",
       "    </tr>\n",
       "    <tr>\n",
       "      <th>4</th>\n",
       "      <td>1465</td>\n",
       "      <td>120</td>\n",
       "      <td>RL</td>\n",
       "      <td>43.0</td>\n",
       "      <td>5005</td>\n",
       "      <td>Pave</td>\n",
       "      <td>NaN</td>\n",
       "      <td>IR1</td>\n",
       "      <td>HLS</td>\n",
       "      <td>AllPub</td>\n",
       "      <td>...</td>\n",
       "      <td>144</td>\n",
       "      <td>0</td>\n",
       "      <td>NaN</td>\n",
       "      <td>NaN</td>\n",
       "      <td>NaN</td>\n",
       "      <td>0</td>\n",
       "      <td>1</td>\n",
       "      <td>2010</td>\n",
       "      <td>WD</td>\n",
       "      <td>Normal</td>\n",
       "    </tr>\n",
       "  </tbody>\n",
       "</table>\n",
       "<p>5 rows × 80 columns</p>\n",
       "</div>"
      ],
      "text/plain": [
       "     Id  MSSubClass MSZoning  LotFrontage  LotArea Street Alley LotShape  \\\n",
       "0  1461          20       RH         80.0    11622   Pave   NaN      Reg   \n",
       "1  1462          20       RL         81.0    14267   Pave   NaN      IR1   \n",
       "2  1463          60       RL         74.0    13830   Pave   NaN      IR1   \n",
       "3  1464          60       RL         78.0     9978   Pave   NaN      IR1   \n",
       "4  1465         120       RL         43.0     5005   Pave   NaN      IR1   \n",
       "\n",
       "  LandContour Utilities  ... ScreenPorch PoolArea PoolQC  Fence MiscFeature  \\\n",
       "0         Lvl    AllPub  ...         120        0    NaN  MnPrv         NaN   \n",
       "1         Lvl    AllPub  ...           0        0    NaN    NaN        Gar2   \n",
       "2         Lvl    AllPub  ...           0        0    NaN  MnPrv         NaN   \n",
       "3         Lvl    AllPub  ...           0        0    NaN    NaN         NaN   \n",
       "4         HLS    AllPub  ...         144        0    NaN    NaN         NaN   \n",
       "\n",
       "  MiscVal MoSold  YrSold  SaleType  SaleCondition  \n",
       "0       0      6    2010        WD         Normal  \n",
       "1   12500      6    2010        WD         Normal  \n",
       "2       0      3    2010        WD         Normal  \n",
       "3       0      6    2010        WD         Normal  \n",
       "4       0      1    2010        WD         Normal  \n",
       "\n",
       "[5 rows x 80 columns]"
      ]
     },
     "execution_count": 3,
     "metadata": {},
     "output_type": "execute_result"
    }
   ],
   "source": [
    "test_data.head()"
   ]
  },
  {
   "cell_type": "code",
   "execution_count": 4,
   "id": "1d2bce8f",
   "metadata": {},
   "outputs": [
    {
     "data": {
      "text/plain": [
       "Id                 0\n",
       "MSSubClass         0\n",
       "MSZoning           0\n",
       "LotFrontage      259\n",
       "LotArea            0\n",
       "                ... \n",
       "MoSold             0\n",
       "YrSold             0\n",
       "SaleType           0\n",
       "SaleCondition      0\n",
       "SalePrice          0\n",
       "Length: 81, dtype: int64"
      ]
     },
     "execution_count": 4,
     "metadata": {},
     "output_type": "execute_result"
    }
   ],
   "source": [
    "train_data.isna().sum()"
   ]
  },
  {
   "cell_type": "code",
   "execution_count": 5,
   "id": "719fdd8e",
   "metadata": {},
   "outputs": [],
   "source": [
    "train_data.Alley = train_data.Alley.fillna(\"No alley access\")\n",
    "train_data.BsmtQual = train_data.BsmtQual.fillna(\"No Basement\")\n",
    "train_data.BsmtCond = train_data.BsmtCond.fillna(\"No Basement\")\n",
    "train_data.BsmtExposure = train_data.BsmtExposure.fillna(\"No Basement\")\n",
    "train_data.BsmtFinType1 = train_data.BsmtFinType1.fillna(\"No Basement\")\n",
    "train_data.BsmtFinType2 = train_data.BsmtFinType2.fillna(\"No Basement\")\n",
    "train_data.FireplaceQu = train_data.FireplaceQu.fillna(\"No Fireplace\")\n",
    "train_data.GarageType = train_data.GarageType.fillna(\"No Garage\")\n",
    "train_data.GarageFinish = train_data.GarageFinish.fillna(\"No Garage\")\n",
    "train_data.GarageQual = train_data.GarageQual.fillna(\"No Garage\")\n",
    "train_data.GarageCond = train_data.GarageCond.fillna(\"No Garage\")\n",
    "train_data.PoolQC = train_data.PoolQC.fillna(\"No Pool\")\n",
    "train_data.Fence = train_data.Fence.fillna(\"No Fence\")\n",
    "train_data.MiscFeature = train_data.MiscFeature.fillna(\"None\")\n",
    "\n",
    "test_data.Alley = test_data.Alley.fillna(\"No alley access\")\n",
    "test_data.BsmtQual = test_data.BsmtQual.fillna(\"No Basement\")\n",
    "test_data.BsmtCond = test_data.BsmtCond.fillna(\"No Basement\")\n",
    "test_data.BsmtExposure = test_data.BsmtExposure.fillna(\"No Basement\")\n",
    "test_data.BsmtFinType1 = test_data.BsmtFinType1.fillna(\"No Basement\")\n",
    "test_data.BsmtFinType2 = test_data.BsmtFinType2.fillna(\"No Basement\")\n",
    "test_data.FireplaceQu = test_data.FireplaceQu.fillna(\"No Fireplace\")\n",
    "test_data.GarageType = test_data.GarageType.fillna(\"No Garage\")\n",
    "test_data.GarageFinish = test_data.GarageFinish.fillna(\"No Garage\")\n",
    "test_data.GarageQual = test_data.GarageQual.fillna(\"No Garage\")\n",
    "test_data.GarageCond = test_data.GarageCond.fillna(\"No Garage\")\n",
    "test_data.PoolQC = test_data.PoolQC.fillna(\"No Pool\")\n",
    "test_data.Fence = test_data.Fence.fillna(\"No Fence\")\n",
    "test_data.MiscFeature = test_data.MiscFeature.fillna(\"None\")"
   ]
  },
  {
   "cell_type": "code",
   "execution_count": 6,
   "id": "88f7f604",
   "metadata": {},
   "outputs": [
    {
     "data": {
      "text/plain": [
       "Id                 0\n",
       "MSSubClass         0\n",
       "MSZoning           0\n",
       "LotFrontage      259\n",
       "LotArea            0\n",
       "                ... \n",
       "MoSold             0\n",
       "YrSold             0\n",
       "SaleType           0\n",
       "SaleCondition      0\n",
       "SalePrice          0\n",
       "Length: 81, dtype: int64"
      ]
     },
     "execution_count": 6,
     "metadata": {},
     "output_type": "execute_result"
    }
   ],
   "source": [
    "train_data.isna().sum()"
   ]
  },
  {
   "cell_type": "code",
   "execution_count": 7,
   "id": "6639072a",
   "metadata": {},
   "outputs": [
    {
     "data": {
      "text/plain": [
       "Id                 0\n",
       "MSSubClass         0\n",
       "MSZoning           4\n",
       "LotFrontage      227\n",
       "LotArea            0\n",
       "                ... \n",
       "MiscVal            0\n",
       "MoSold             0\n",
       "YrSold             0\n",
       "SaleType           1\n",
       "SaleCondition      0\n",
       "Length: 80, dtype: int64"
      ]
     },
     "execution_count": 7,
     "metadata": {},
     "output_type": "execute_result"
    }
   ],
   "source": [
    "test_data.isna().sum()"
   ]
  },
  {
   "cell_type": "code",
   "execution_count": 26,
   "id": "167ede4f",
   "metadata": {},
   "outputs": [],
   "source": [
    "from module import replacer\n",
    "replacer(train_data)\n",
    "replacer(test_data)"
   ]
  },
  {
   "cell_type": "markdown",
   "id": "b8fd6264",
   "metadata": {},
   "source": [
    "# EDA"
   ]
  },
  {
   "cell_type": "code",
   "execution_count": 29,
   "id": "44b8687e",
   "metadata": {},
   "outputs": [],
   "source": [
    "cat = []\n",
    "con = []\n",
    "for i in train_data.columns:\n",
    "    if(train_data[i].dtypes == \"object\"):\n",
    "        cat.append(i)\n",
    "    else:\n",
    "        con.append(i)"
   ]
  },
  {
   "cell_type": "code",
   "execution_count": 30,
   "id": "2d786361",
   "metadata": {},
   "outputs": [
    {
     "data": {
      "text/plain": [
       "['MSZoning',\n",
       " 'Street',\n",
       " 'Alley',\n",
       " 'LotShape',\n",
       " 'LandContour',\n",
       " 'Utilities',\n",
       " 'LotConfig',\n",
       " 'LandSlope',\n",
       " 'Neighborhood',\n",
       " 'Condition1',\n",
       " 'Condition2',\n",
       " 'BldgType',\n",
       " 'HouseStyle',\n",
       " 'RoofStyle',\n",
       " 'RoofMatl',\n",
       " 'Exterior1st',\n",
       " 'Exterior2nd',\n",
       " 'MasVnrType',\n",
       " 'ExterQual',\n",
       " 'ExterCond',\n",
       " 'Foundation',\n",
       " 'BsmtQual',\n",
       " 'BsmtCond',\n",
       " 'BsmtExposure',\n",
       " 'BsmtFinType1',\n",
       " 'BsmtFinType2',\n",
       " 'Heating',\n",
       " 'HeatingQC',\n",
       " 'CentralAir',\n",
       " 'Electrical',\n",
       " 'KitchenQual',\n",
       " 'Functional',\n",
       " 'FireplaceQu',\n",
       " 'GarageType',\n",
       " 'GarageFinish',\n",
       " 'GarageQual',\n",
       " 'GarageCond',\n",
       " 'PavedDrive',\n",
       " 'PoolQC',\n",
       " 'Fence',\n",
       " 'MiscFeature',\n",
       " 'SaleType',\n",
       " 'SaleCondition']"
      ]
     },
     "execution_count": 30,
     "metadata": {},
     "output_type": "execute_result"
    }
   ],
   "source": [
    "cat"
   ]
  },
  {
   "cell_type": "code",
   "execution_count": 31,
   "id": "cbf4369a",
   "metadata": {},
   "outputs": [
    {
     "data": {
      "text/plain": [
       "['Id',\n",
       " 'MSSubClass',\n",
       " 'LotFrontage',\n",
       " 'LotArea',\n",
       " 'OverallQual',\n",
       " 'OverallCond',\n",
       " 'YearBuilt',\n",
       " 'YearRemodAdd',\n",
       " 'MasVnrArea',\n",
       " 'BsmtFinSF1',\n",
       " 'BsmtFinSF2',\n",
       " 'BsmtUnfSF',\n",
       " 'TotalBsmtSF',\n",
       " '1stFlrSF',\n",
       " '2ndFlrSF',\n",
       " 'LowQualFinSF',\n",
       " 'GrLivArea',\n",
       " 'BsmtFullBath',\n",
       " 'BsmtHalfBath',\n",
       " 'FullBath',\n",
       " 'HalfBath',\n",
       " 'BedroomAbvGr',\n",
       " 'KitchenAbvGr',\n",
       " 'TotRmsAbvGrd',\n",
       " 'Fireplaces',\n",
       " 'GarageYrBlt',\n",
       " 'GarageCars',\n",
       " 'GarageArea',\n",
       " 'WoodDeckSF',\n",
       " 'OpenPorchSF',\n",
       " 'EnclosedPorch',\n",
       " '3SsnPorch',\n",
       " 'ScreenPorch',\n",
       " 'PoolArea',\n",
       " 'MiscVal',\n",
       " 'MoSold',\n",
       " 'YrSold',\n",
       " 'SalePrice']"
      ]
     },
     "execution_count": 31,
     "metadata": {},
     "output_type": "execute_result"
    }
   ],
   "source": [
    "con"
   ]
  },
  {
   "cell_type": "code",
   "execution_count": 33,
   "id": "7604990d",
   "metadata": {},
   "outputs": [
    {
     "data": {
      "text/plain": [
       "KitchenAbvGr    -0.135907\n",
       "EnclosedPorch   -0.128578\n",
       "MSSubClass      -0.084284\n",
       "OverallCond     -0.077856\n",
       "YrSold          -0.028923\n",
       "LowQualFinSF    -0.025606\n",
       "Id              -0.021917\n",
       "MiscVal         -0.021190\n",
       "BsmtHalfBath    -0.016844\n",
       "BsmtFinSF2      -0.011378\n",
       "3SsnPorch        0.044584\n",
       "MoSold           0.046432\n",
       "PoolArea         0.092404\n",
       "ScreenPorch      0.111447\n",
       "BedroomAbvGr     0.168213\n",
       "BsmtUnfSF        0.214479\n",
       "BsmtFullBath     0.227122\n",
       "LotArea          0.263843\n",
       "HalfBath         0.284108\n",
       "OpenPorchSF      0.315856\n",
       "2ndFlrSF         0.319334\n",
       "WoodDeckSF       0.324413\n",
       "LotFrontage      0.334901\n",
       "BsmtFinSF1       0.386420\n",
       "Fireplaces       0.466929\n",
       "GarageYrBlt      0.470177\n",
       "MasVnrArea       0.475241\n",
       "YearRemodAdd     0.507101\n",
       "YearBuilt        0.522897\n",
       "TotRmsAbvGrd     0.533723\n",
       "FullBath         0.560664\n",
       "1stFlrSF         0.605852\n",
       "TotalBsmtSF      0.613581\n",
       "GarageArea       0.623431\n",
       "GarageCars       0.640409\n",
       "GrLivArea        0.708624\n",
       "OverallQual      0.790982\n",
       "SalePrice        1.000000\n",
       "Name: SalePrice, dtype: float64"
      ]
     },
     "execution_count": 33,
     "metadata": {},
     "output_type": "execute_result"
    }
   ],
   "source": [
    "train_data.corr()[\"SalePrice\"].sort_values()"
   ]
  },
  {
   "cell_type": "markdown",
   "id": "a8bd2c94",
   "metadata": {},
   "source": [
    "# Define X and Y"
   ]
  },
  {
   "cell_type": "code",
   "execution_count": 35,
   "id": "9279093e",
   "metadata": {},
   "outputs": [
    {
     "data": {
      "text/plain": [
       "Id               0\n",
       "MSSubClass       0\n",
       "MSZoning         0\n",
       "LotFrontage      0\n",
       "LotArea          0\n",
       "                ..\n",
       "MoSold           0\n",
       "YrSold           0\n",
       "SaleType         0\n",
       "SaleCondition    0\n",
       "SalePrice        0\n",
       "Length: 81, dtype: int64"
      ]
     },
     "execution_count": 35,
     "metadata": {},
     "output_type": "execute_result"
    }
   ],
   "source": [
    "train_data.isna().sum()"
   ]
  },
  {
   "cell_type": "code",
   "execution_count": 37,
   "id": "5aecb3ea",
   "metadata": {},
   "outputs": [],
   "source": [
    "X = train_data.drop(labels=[\"Id\",\"SalePrice\"],axis=1)\n",
    "Y = train_data[[\"SalePrice\"]]"
   ]
  },
  {
   "cell_type": "code",
   "execution_count": 38,
   "id": "0f3e3d07",
   "metadata": {},
   "outputs": [
    {
     "data": {
      "text/plain": [
       "MSSubClass       0\n",
       "MSZoning         0\n",
       "LotFrontage      0\n",
       "LotArea          0\n",
       "Street           0\n",
       "                ..\n",
       "MiscVal          0\n",
       "MoSold           0\n",
       "YrSold           0\n",
       "SaleType         0\n",
       "SaleCondition    0\n",
       "Length: 79, dtype: int64"
      ]
     },
     "execution_count": 38,
     "metadata": {},
     "output_type": "execute_result"
    }
   ],
   "source": [
    "X.isna().sum()"
   ]
  },
  {
   "cell_type": "markdown",
   "id": "0065b3df",
   "metadata": {},
   "source": [
    "# Remove Outliers"
   ]
  },
  {
   "cell_type": "code",
   "execution_count": 39,
   "id": "f2db2fc1",
   "metadata": {},
   "outputs": [],
   "source": [
    "from module import standardize,outliers\n",
    "X1 = standardize(X)\n",
    "OL = outliers(X1)"
   ]
  },
  {
   "cell_type": "code",
   "execution_count": 40,
   "id": "2471984a",
   "metadata": {},
   "outputs": [],
   "source": [
    "X = X.drop(index=OL,axis=0)\n",
    "Y = Y.drop(index=OL,axis=0)"
   ]
  },
  {
   "cell_type": "code",
   "execution_count": 41,
   "id": "c1457184",
   "metadata": {},
   "outputs": [
    {
     "data": {
      "text/plain": [
       "(1021, 79)"
      ]
     },
     "execution_count": 41,
     "metadata": {},
     "output_type": "execute_result"
    }
   ],
   "source": [
    "X.shape"
   ]
  },
  {
   "cell_type": "code",
   "execution_count": 42,
   "id": "7a6d1152",
   "metadata": {},
   "outputs": [],
   "source": [
    "X.index = range(0,1021,1)\n",
    "Y.index = range(0,1021,1)\n"
   ]
  },
  {
   "cell_type": "markdown",
   "id": "ce196a3b",
   "metadata": {},
   "source": [
    "# Preprocessing"
   ]
  },
  {
   "cell_type": "code",
   "execution_count": 43,
   "id": "41a02d81",
   "metadata": {},
   "outputs": [],
   "source": [
    "from module import preprocessing\n",
    "Xnew = preprocessing(X)"
   ]
  },
  {
   "cell_type": "code",
   "execution_count": 45,
   "id": "d87417ce",
   "metadata": {},
   "outputs": [
    {
     "data": {
      "text/plain": [
       "MSSubClass               0\n",
       "LotFrontage              0\n",
       "LotArea                  0\n",
       "OverallQual              0\n",
       "OverallCond              0\n",
       "                        ..\n",
       "SaleCondition_AdjLand    0\n",
       "SaleCondition_Alloca     0\n",
       "SaleCondition_Family     0\n",
       "SaleCondition_Normal     0\n",
       "SaleCondition_Partial    0\n",
       "Length: 273, dtype: int64"
      ]
     },
     "execution_count": 45,
     "metadata": {},
     "output_type": "execute_result"
    }
   ],
   "source": [
    "Xnew.isna().sum()\n"
   ]
  },
  {
   "cell_type": "markdown",
   "id": "c3488f7f",
   "metadata": {},
   "source": [
    "# Training testing split"
   ]
  },
  {
   "cell_type": "code",
   "execution_count": 46,
   "id": "ab3666ab",
   "metadata": {},
   "outputs": [],
   "source": [
    "from sklearn.model_selection import train_test_split\n",
    "xtrain,xtest,ytrain,ytest=train_test_split(Xnew,Y,test_size=0.2,random_state=21)"
   ]
  },
  {
   "cell_type": "markdown",
   "id": "6c2562df",
   "metadata": {},
   "source": [
    "# Create a Backward elemination OLS model"
   ]
  },
  {
   "cell_type": "code",
   "execution_count": 47,
   "id": "79544d40",
   "metadata": {},
   "outputs": [
    {
     "name": "stdout",
     "output_type": "stream",
     "text": [
      "Dropped: column: BldgType_Twnhs \tRsquared: 0.9341\n"
     ]
    }
   ],
   "source": [
    "from statsmodels.api import OLS,add_constant\n",
    "xconst = add_constant(xtrain)\n",
    "ol = OLS(ytrain,xconst)\n",
    "model = ol.fit()\n",
    "rsq = model.rsquared_adj\n",
    "col_to_drop = model.pvalues.sort_values().index[-1]\n",
    "print(\"Dropped: column:\",col_to_drop,\"\\tRsquared:\",round(rsq,4))\n",
    "Xnew = Xnew.drop(labels=col_to_drop,axis=1)\n",
    "xtrain,xtest,ytrain,ytest=train_test_split(Xnew,Y,test_size=0.2,random_state=21)\n",
    "xconst = add_constant(xtrain)\n",
    "ol = OLS(ytrain,xconst)\n",
    "model = ol.fit()\n",
    "rsq = model.rsquared_adj"
   ]
  },
  {
   "cell_type": "code",
   "execution_count": 48,
   "id": "c2ea00ea",
   "metadata": {},
   "outputs": [
    {
     "name": "stdout",
     "output_type": "stream",
     "text": [
      "Dropped: column: Neighborhood_Veenker \tRsquared: 0.9341\n",
      "Dropped: column: HalfBath \tRsquared: 0.9341\n",
      "Dropped: column: Neighborhood_SawyerW \tRsquared: 0.9342\n",
      "Dropped: column: Fence_GdPrv \tRsquared: 0.9343\n",
      "Dropped: column: ExterQual_Fa \tRsquared: 0.9343\n",
      "Dropped: column: BsmtFinType1_ALQ \tRsquared: 0.9343\n",
      "Dropped: column: MasVnrArea \tRsquared: 0.9343\n",
      "Dropped: column: Functional_Maj2 \tRsquared: 0.9344\n",
      "Dropped: column: Functional_Maj1 \tRsquared: 0.9344\n",
      "Dropped: column: GarageFinish_Fin \tRsquared: 0.9345\n"
     ]
    }
   ],
   "source": [
    "for i in range(0,10):\n",
    "    from statsmodels.api import OLS,add_constant\n",
    "    xconst = add_constant(xtrain)\n",
    "    ol = OLS(ytrain,xconst)\n",
    "    model = ol.fit()\n",
    "    rsq = model.rsquared_adj\n",
    "    col_to_drop = model.pvalues.sort_values().index[-1]\n",
    "    print(\"Dropped: column:\",col_to_drop,\"\\tRsquared:\",round(rsq,4))\n",
    "    Xnew = Xnew.drop(labels=col_to_drop,axis=1)\n",
    "    xtrain,xtest,ytrain,ytest=train_test_split(Xnew,Y,test_size=0.2,random_state=21)\n",
    "    xconst = add_constant(xtrain)\n",
    "    ol = OLS(ytrain,xconst)\n",
    "    model = ol.fit()\n",
    "    rsq = model.rsquared_adj"
   ]
  },
  {
   "cell_type": "markdown",
   "id": "3f1b9f7f",
   "metadata": {},
   "source": [
    "# Create a Linear model based on selected features"
   ]
  },
  {
   "cell_type": "code",
   "execution_count": 49,
   "id": "173aa5e1",
   "metadata": {},
   "outputs": [],
   "source": [
    "from sklearn.linear_model import LinearRegression\n",
    "lm = LinearRegression()\n",
    "model = lm.fit(xtrain,ytrain)\n",
    "tr_pred = model.predict(xtrain)\n",
    "ts_pred = model.predict(xtest)\n",
    "\n",
    "from sklearn.metrics import mean_absolute_error\n",
    "tr_err = mean_absolute_error(ytrain,tr_pred)\n",
    "ts_err = mean_absolute_error(ytest,ts_pred)"
   ]
  },
  {
   "cell_type": "code",
   "execution_count": 50,
   "id": "67f7e7bd",
   "metadata": {},
   "outputs": [
    {
     "data": {
      "text/plain": [
       "10456.867647058823"
      ]
     },
     "execution_count": 50,
     "metadata": {},
     "output_type": "execute_result"
    }
   ],
   "source": [
    "tr_err"
   ]
  },
  {
   "cell_type": "code",
   "execution_count": 51,
   "id": "da20a895",
   "metadata": {},
   "outputs": [
    {
     "data": {
      "text/plain": [
       "35478163332941.87"
      ]
     },
     "execution_count": 51,
     "metadata": {},
     "output_type": "execute_result"
    }
   ],
   "source": [
    "ts_err"
   ]
  },
  {
   "cell_type": "code",
   "execution_count": 53,
   "id": "cea68e31",
   "metadata": {},
   "outputs": [],
   "source": [
    "#Xnew.corr()"
   ]
  },
  {
   "cell_type": "markdown",
   "id": "3da10846",
   "metadata": {},
   "source": [
    "# Regularize"
   ]
  },
  {
   "cell_type": "code",
   "execution_count": 54,
   "id": "baff25bb",
   "metadata": {},
   "outputs": [],
   "source": [
    "lambdas = []\n",
    "q = 8\n",
    "for i in range(0,4000,1):\n",
    "    q = q + 0.001\n",
    "    q = round(q,4)\n",
    "    lambdas.append(q)"
   ]
  },
  {
   "cell_type": "code",
   "execution_count": 56,
   "id": "a879f238",
   "metadata": {},
   "outputs": [],
   "source": [
    "from sklearn.linear_model import Ridge\n",
    "tr = []\n",
    "ts = []\n",
    "for i in lambdas:\n",
    "    rr = Ridge(alpha=i)\n",
    "    model = rr.fit(xtrain,ytrain)\n",
    "    tr_pred = model.predict(xtrain)\n",
    "    ts_pred = model.predict(xtest)\n",
    "    from sklearn.metrics import mean_absolute_error\n",
    "    tr_err = mean_absolute_error(ytrain,tr_pred)\n",
    "    ts_err = mean_absolute_error(ytest,ts_pred)\n",
    "    tr.append(tr_err)\n",
    "    ts.append(ts_err)"
   ]
  },
  {
   "cell_type": "code",
   "execution_count": 57,
   "id": "b2ec41df",
   "metadata": {},
   "outputs": [],
   "source": [
    "t = range(0,4000,1)"
   ]
  },
  {
   "cell_type": "code",
   "execution_count": 58,
   "id": "52f2eb6a",
   "metadata": {},
   "outputs": [
    {
     "data": {
      "text/plain": [
       "[<matplotlib.lines.Line2D at 0x1f68e2e3460>]"
      ]
     },
     "execution_count": 58,
     "metadata": {},
     "output_type": "execute_result"
    },
    {
     "data": {
      "image/png": "[encoded data removed]",
      "text/plain": [
       "<Figure size 432x288 with 1 Axes>"
      ]
     },
     "metadata": {
      "needs_background": "light"
     },
     "output_type": "display_data"
    }
   ],
   "source": [
    "import matplotlib.pyplot as plt\n",
    "plt.plot(t,tr,c=\"red\")\n",
    "plt.plot(t,ts,c=\"blue\")"
   ]
  },
  {
   "cell_type": "code",
   "execution_count": 59,
   "id": "0587c693",
   "metadata": {},
   "outputs": [
    {
     "data": {
      "text/plain": [
       "12.0"
      ]
     },
     "execution_count": 59,
     "metadata": {},
     "output_type": "execute_result"
    }
   ],
   "source": [
    "lambdas[-1]"
   ]
  },
  {
   "cell_type": "code",
   "execution_count": 60,
   "id": "98a5a53d",
   "metadata": {},
   "outputs": [
    {
     "data": {
      "text/plain": [
       "11396.915675368826"
      ]
     },
     "execution_count": 60,
     "metadata": {},
     "output_type": "execute_result"
    }
   ],
   "source": [
    "tr_err"
   ]
  },
  {
   "cell_type": "code",
   "execution_count": 61,
   "id": "cefc236b",
   "metadata": {},
   "outputs": [
    {
     "data": {
      "text/plain": [
       "12025.74701047925"
      ]
     },
     "execution_count": 61,
     "metadata": {},
     "output_type": "execute_result"
    }
   ],
   "source": [
    "ts_err"
   ]
  },
  {
   "cell_type": "code",
   "execution_count": 62,
   "id": "25e0bc46",
   "metadata": {},
   "outputs": [
    {
     "data": {
      "text/plain": [
       "Ridge(alpha=12.0)"
      ]
     },
     "execution_count": 62,
     "metadata": {},
     "output_type": "execute_result"
    }
   ],
   "source": [
    "model"
   ]
  },
  {
   "cell_type": "code",
   "execution_count": 65,
   "id": "b1ed186f",
   "metadata": {},
   "outputs": [],
   "source": [
    "rr = Ridge(alpha=12.0)\n",
    "model = rr.fit(xtrain,ytrain)"
   ]
  },
  {
   "cell_type": "code",
   "execution_count": 64,
   "id": "47f2ad22",
   "metadata": {},
   "outputs": [
    {
     "data": {
      "text/plain": [
       "Index(['MSSubClass', 'LotFrontage', 'LotArea', 'OverallQual', 'OverallCond',\n",
       "       'YearBuilt', 'YearRemodAdd', 'BsmtFinSF1', 'BsmtFinSF2', 'BsmtUnfSF',\n",
       "       ...\n",
       "       'SaleType_ConLw', 'SaleType_New', 'SaleType_Oth', 'SaleType_WD',\n",
       "       'SaleCondition_Abnorml', 'SaleCondition_AdjLand',\n",
       "       'SaleCondition_Alloca', 'SaleCondition_Family', 'SaleCondition_Normal',\n",
       "       'SaleCondition_Partial'],\n",
       "      dtype='object', length=262)"
      ]
     },
     "execution_count": 64,
     "metadata": {},
     "output_type": "execute_result"
    }
   ],
   "source": [
    "xtrain.columns"
   ]
  },
  {
   "cell_type": "markdown",
   "id": "aa17503c",
   "metadata": {},
   "source": [
    "# Creating test data ready for predictions"
   ]
  },
  {
   "cell_type": "code",
   "execution_count": 67,
   "id": "630f6916",
   "metadata": {},
   "outputs": [],
   "source": [
    "xtest = test_data.drop(labels=[\"Id\"],axis=1)\n",
    "xtest_new = preprocessing(xtest)"
   ]
  },
  {
   "cell_type": "code",
   "execution_count": null,
   "id": "b0a2c31b",
   "metadata": {},
   "outputs": [],
   "source": [
    "#xtest_new[list(xtrain.columns)]"
   ]
  },
  {
   "cell_type": "code",
   "execution_count": 68,
   "id": "7101a110",
   "metadata": {},
   "outputs": [],
   "source": [
    "xtest_new['Exterior2nd_Other']=0"
   ]
  },
  {
   "cell_type": "code",
   "execution_count": null,
   "id": "2defac78",
   "metadata": {},
   "outputs": [],
   "source": [
    "final_data_for_pred = xtest_new[list(xtrain.columns)]"
   ]
  },
  {
   "cell_type": "markdown",
   "id": "6dc3f346",
   "metadata": {},
   "source": [
    "# predict and save to file"
   ]
  },
  {
   "cell_type": "code",
   "execution_count": null,
   "id": "0dea4a08",
   "metadata": {},
   "outputs": [],
   "source": [
    "pred = model.predict(final_data_for_pred)"
   ]
  },
  {
   "cell_type": "code",
   "execution_count": null,
   "id": "6c29c965",
   "metadata": {},
   "outputs": [],
   "source": [
    "Q = test[[\"Id\"]]"
   ]
  },
  {
   "cell_type": "code",
   "execution_count": null,
   "id": "e6865a2f",
   "metadata": {},
   "outputs": [],
   "source": [
    "Q['SalePrice']=pred"
   ]
  },
  {
   "cell_type": "code",
   "execution_count": null,
   "id": "8489f0e4",
   "metadata": {},
   "outputs": [],
   "source": [
    "Q.to_csv(\"C:/Users/Lenovo/Desktop/submissions.csv\")"
   ]
  }
 ],
 "metadata": {
  "kernelspec": {
   "display_name": "Python 3",
   "language": "python",
   "name": "python3"
  },
  "language_info": {
   "codemirror_mode": {
    "name": "ipython",
    "version": 3
   },
   "file_extension": ".py",
   "mimetype": "text/x-python",
   "name": "python",
   "nbconvert_exporter": "python",
   "pygments_lexer": "ipython3",
   "version": "3.8.8"
  }
 },
 "nbformat": 4,
 "nbformat_minor": 5
}
